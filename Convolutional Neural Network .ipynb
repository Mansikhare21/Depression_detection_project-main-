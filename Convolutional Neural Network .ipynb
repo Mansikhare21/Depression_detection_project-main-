{
  "cells": [
    {
      "cell_type": "code",
      "execution_count": 1,
      "metadata": {
        "colab": {},
        "colab_type": "code",
        "id": "uEwcnJkaRyKf"
      },
      "outputs": [],
      "source": [
        "#preprocessing images\n",
        "import tensorflow as tf\n",
        "from tensorflow.keras import layers, models,preprocessing,regularizers,callbacks\n",
        "from matplotlib import pyplot as plt\n",
        "\n"
      ]
    },
    {
      "cell_type": "code",
      "execution_count": 2,
      "metadata": {},
      "outputs": [
        {
          "name": "stdout",
          "output_type": "stream",
          "text": [
            "Found 64 images belonging to 2 classes.\n",
            "Found 20 images belonging to 2 classes.\n"
          ]
        }
      ],
      "source": [
        "datagen = preprocessing.image.ImageDataGenerator(rescale=1/255)# normalisation\n",
        "train_generator = datagen.flow_from_directory(\n",
        "        'datasets/final_image_data/train',\n",
        "        batch_size=10,\n",
        "        target_size=(512,512),\n",
        "        class_mode='binary')\n",
        "val_generator = datagen.flow_from_directory(\n",
        "        'datasets/final_image_data/test',\n",
        "        color_mode='rgb',\n",
        "        target_size=(512,512),\n",
        "        class_mode='binary')\n"
      ]
    },
    {
      "cell_type": "code",
      "execution_count": 3,
      "metadata": {
        "colab": {},
        "colab_type": "code",
        "id": "pLn8a1D2yjMf"
      },
      "outputs": [],
      "source": [
        "# model\n",
        "model = models.Sequential()\n",
        "model.add(layers.Conv2D(32, (5,5), activation='relu', input_shape=(512, 512, 3)))\n",
        "model.add(layers.MaxPooling2D((4, 4), strides=4))\n",
        "model.add(layers.Conv2D(32, (3, 3), activation='relu',kernel_regularizer=regularizers.l2(0.01)))\n",
        "model.add(layers.MaxPooling2D((1, 3), strides=(1,3)))\n",
        "model.add(layers.Flatten())\n",
        "model.add(layers.Dense(128, activation='linear',kernel_regularizer=regularizers.l2(0.01)))\n",
        "model.add(layers.Dropout(0.6))\n",
        "model.add(layers.Dense(256, activation='relu',kernel_regularizer=regularizers.l2(0.0001)))\n",
        "model.add(layers.Dropout(0.8))\n",
        "model.add(layers.Dense(1, activation='sigmoid'))\n",
        "model.compile(optimizer=tf.keras.optimizers.SGD(),\n",
        "              loss=tf.keras.losses.BinaryCrossentropy(),\n",
        "              metrics=['accuracy',\n",
        "                       tf.keras.metrics.TrueNegatives(),\n",
        "                       tf.keras.metrics.TruePositives(),\n",
        "                       tf.keras.metrics.FalseNegatives(),\n",
        "                       tf.keras.metrics.FalsePositives()])"
      ]
    },
    {
      "cell_type": "code",
      "execution_count": 5,
      "metadata": {
        "colab": {},
        "colab_type": "code",
        "id": "xxWqf07xjrp3"
      },
      "outputs": [
        {
          "name": "stdout",
          "output_type": "stream",
          "text": [
            "Epoch 1/50\n"
          ]
        },
        {
          "name": "stderr",
          "output_type": "stream",
          "text": [
            "C:\\Users\\mansi\\AppData\\Local\\Temp/ipykernel_8808/1896593364.py:2: UserWarning: `Model.fit_generator` is deprecated and will be removed in a future version. Please use `Model.fit`, which supports generators.\n",
            "  history=model.fit_generator(train_generator,epochs=50,validation_data=val_generator,shuffle=True,\n"
          ]
        },
        {
          "name": "stdout",
          "output_type": "stream",
          "text": [
            "7/7 [==============================] - 9s 1s/step - loss: 2.8589 - accuracy: 0.8281 - true_negatives: 27.0000 - true_positives: 26.0000 - false_negatives: 6.0000 - false_positives: 5.0000 - val_loss: 3.1839 - val_accuracy: 0.6000 - val_true_negatives: 6.0000 - val_true_positives: 6.0000 - val_false_negatives: 4.0000 - val_false_positives: 4.0000\n",
            "Epoch 2/50\n",
            "7/7 [==============================] - 8s 1s/step - loss: 2.9780 - accuracy: 0.8281 - true_negatives: 28.0000 - true_positives: 25.0000 - false_negatives: 7.0000 - false_positives: 4.0000 - val_loss: 3.1729 - val_accuracy: 0.6000 - val_true_negatives: 5.0000 - val_true_positives: 7.0000 - val_false_negatives: 3.0000 - val_false_positives: 5.0000\n",
            "Epoch 3/50\n",
            "7/7 [==============================] - 8s 1s/step - loss: 2.8664 - accuracy: 0.8281 - true_negatives: 23.0000 - true_positives: 30.0000 - false_negatives: 2.0000 - false_positives: 9.0000 - val_loss: 3.2132 - val_accuracy: 0.6000 - val_true_negatives: 8.0000 - val_true_positives: 4.0000 - val_false_negatives: 6.0000 - val_false_positives: 2.0000\n",
            "Epoch 4/50\n",
            "7/7 [==============================] - 8s 1s/step - loss: 2.8088 - accuracy: 0.9375 - true_negatives: 29.0000 - true_positives: 31.0000 - false_negatives: 1.0000 - false_positives: 3.0000 - val_loss: 3.2027 - val_accuracy: 0.6500 - val_true_negatives: 8.0000 - val_true_positives: 5.0000 - val_false_negatives: 5.0000 - val_false_positives: 2.0000\n",
            "Epoch 5/50\n",
            "7/7 [==============================] - 8s 1s/step - loss: 2.8817 - accuracy: 0.8125 - true_negatives: 25.0000 - true_positives: 27.0000 - false_negatives: 5.0000 - false_positives: 7.0000 - val_loss: 3.1529 - val_accuracy: 0.6500 - val_true_negatives: 5.0000 - val_true_positives: 8.0000 - val_false_negatives: 2.0000 - val_false_positives: 5.0000\n",
            "Epoch 6/50\n",
            "7/7 [==============================] - 8s 1s/step - loss: 2.7539 - accuracy: 0.9531 - true_negatives: 31.0000 - true_positives: 30.0000 - false_negatives: 2.0000 - false_positives: 1.0000 - val_loss: 3.1808 - val_accuracy: 0.5500 - val_true_negatives: 6.0000 - val_true_positives: 5.0000 - val_false_negatives: 5.0000 - val_false_positives: 4.0000\n",
            "Epoch 7/50\n",
            "7/7 [==============================] - 8s 1s/step - loss: 2.8260 - accuracy: 0.8906 - true_negatives: 29.0000 - true_positives: 28.0000 - false_negatives: 4.0000 - false_positives: 3.0000 - val_loss: 3.1800 - val_accuracy: 0.6000 - val_true_negatives: 7.0000 - val_true_positives: 5.0000 - val_false_negatives: 5.0000 - val_false_positives: 3.0000\n",
            "Epoch 8/50\n",
            "7/7 [==============================] - 8s 1s/step - loss: 2.7242 - accuracy: 0.9688 - true_negatives: 31.0000 - true_positives: 31.0000 - false_negatives: 1.0000 - false_positives: 1.0000 - val_loss: 3.1786 - val_accuracy: 0.6000 - val_true_negatives: 6.0000 - val_true_positives: 6.0000 - val_false_negatives: 4.0000 - val_false_positives: 4.0000\n",
            "Epoch 9/50\n",
            "7/7 [==============================] - 8s 1s/step - loss: 2.7586 - accuracy: 0.9062 - true_negatives: 30.0000 - true_positives: 28.0000 - false_negatives: 4.0000 - false_positives: 2.0000 - val_loss: 3.3075 - val_accuracy: 0.6000 - val_true_negatives: 9.0000 - val_true_positives: 3.0000 - val_false_negatives: 7.0000 - val_false_positives: 1.0000\n",
            "Epoch 10/50\n",
            "7/7 [==============================] - 8s 1s/step - loss: 2.7421 - accuracy: 0.9062 - true_negatives: 28.0000 - true_positives: 30.0000 - false_negatives: 2.0000 - false_positives: 4.0000 - val_loss: 3.1615 - val_accuracy: 0.5500 - val_true_negatives: 5.0000 - val_true_positives: 6.0000 - val_false_negatives: 4.0000 - val_false_positives: 5.0000\n"
          ]
        },
        {
          "data": {
            "image/png": "[encoded data removed]",
            "text/plain": [
              "<Figure size 432x288 with 1 Axes>"
            ]
          },
          "metadata": {
            "needs_background": "light"
          },
          "output_type": "display_data"
        },
        {
          "data": {
            "image/png": "[encoded data removed]",
            "text/plain": [
              "<Figure size 432x288 with 1 Axes>"
            ]
          },
          "metadata": {
            "needs_background": "light"
          },
          "output_type": "display_data"
        }
      ],
      "source": [
        "# fitiing\n",
        "history=model.fit_generator(train_generator,epochs=50,validation_data=val_generator,shuffle=True,\n",
        "                            callbacks=[callbacks.EarlyStopping(monitor='val_loss', patience=5,restore_best_weights=True)])\n",
        "# using early stopping method to train the model to achieve maximum accuracy\n",
        "plt.plot(history.history['loss'])\n",
        "plt.plot(history.history['val_loss'])\n",
        "plt.title('loss')\n",
        "plt.ylabel('loss')\n",
        "plt.xlabel('epoch')\n",
        "plt.legend(['train', 'val'], loc='upper left')\n",
        "plt.show()\n",
        "plt.plot(history.history['loss'])\n",
        "plt.plot(history.history['val_loss'])\n",
        "plt.title('loss')\n",
        "plt.ylabel('loss')\n",
        "plt.xlabel('epoch')\n",
        "plt.legend(['train', 'val'], loc='upper left')\n",
        "plt.show()"
      ]
    },
    {
      "cell_type": "code",
      "execution_count": 6,
      "metadata": {
        "colab": {},
        "colab_type": "code",
        "id": "lTU-qpGgLUqf"
      },
      "outputs": [
        {
          "name": "stderr",
          "output_type": "stream",
          "text": [
            "C:\\Users\\mansi\\AppData\\Local\\Temp/ipykernel_8808/1985064804.py:2: UserWarning: `Model.evaluate_generator` is deprecated and will be removed in a future version. Please use `Model.evaluate`, which supports generators.\n",
            "  loss,accuracy,tn,tp,fn,fp=model.evaluate_generator(val_generator)\n"
          ]
        },
        {
          "name": "stdout",
          "output_type": "stream",
          "text": [
            "0.6499999761581421 5.0 8.0 2.0 5.0\n"
          ]
        }
      ],
      "source": [
        "#testing \n",
        "loss,accuracy,tn,tp,fn,fp=model.evaluate_generator(val_generator)\n",
        "print(accuracy,tn,tp,fn,fp)"
      ]
    },
    {
      "cell_type": "code",
      "execution_count": 9,
      "metadata": {},
      "outputs": [
        {
          "name": "stdout",
          "output_type": "stream",
          "text": [
            "7/7 [==============================] - 2s 284ms/step - loss: 2.7475 - accuracy: 0.9844 - true_negatives: 31.0000 - true_positives: 32.0000 - false_negatives: 0.0000e+00 - false_positives: 1.0000\n"
          ]
        }
      ],
      "source": [
        "loss,accuracy,tn,tp,fn,fp = model.evaluate(train_generator)"
      ]
    },
    {
      "cell_type": "code",
      "execution_count": 10,
      "metadata": {},
      "outputs": [
        {
          "name": "stdout",
          "output_type": "stream",
          "text": [
            "0.984375 31.0 32.0 0.0 1.0\n"
          ]
        }
      ],
      "source": [
        "print(accuracy,tn,tp,fn,fp)"
      ]
    },
    {
      "cell_type": "code",
      "execution_count": null,
      "metadata": {},
      "outputs": [],
      "source": []
    }
  ],
  "metadata": {
    "colab": {
      "name": "Untitled15.ipynb",
      "provenance": []
    },
    "interpreter": {
      "hash": "11938c6bc6919ae2720b4d5011047913343b08a43b18698fd82dedb0d4417594"
    },
    "kernelspec": {
      "display_name": "Python 3.9.9 64-bit",
      "language": "python",
      "name": "python3"
    },
    "language_info": {
      "codemirror_mode": {
        "name": "ipython",
        "version": 3
      },
      "file_extension": ".py",
      "mimetype": "text/x-python",
      "name": "python",
      "nbconvert_exporter": "python",
      "pygments_lexer": "ipython3",
      "version": "3.9.9"
    }
  },
  "nbformat": 4,
  "nbformat_minor": 0
}
