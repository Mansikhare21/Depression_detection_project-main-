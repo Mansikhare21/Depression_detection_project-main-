{
  "cells": [
    {
      "cell_type": "code",
      "execution_count": 28,
      "metadata": {
        "colab": {},
        "colab_type": "code",
        "id": "uEwcnJkaRyKf"
      },
      "outputs": [],
      "source": [
        "#preprocessing images\n",
        "import tensorflow as tf\n",
        "from tensorflow.keras import layers, models,preprocessing,regularizers,callbacks\n",
        "from matplotlib import pyplot as plt\n",
        "\n"
      ]
    },
    {
      "cell_type": "code",
      "execution_count": 29,
      "metadata": {},
      "outputs": [
        {
          "data": {
            "text/plain": [
              "keras.layers.kernelized.RandomFourierFeatures"
            ]
          },
          "execution_count": 29,
          "metadata": {},
          "output_type": "execute_result"
        }
      ],
      "source": [
        "tf.keras.layers.experimental.RandomFourierFeatures"
      ]
    },
    {
      "cell_type": "code",
      "execution_count": 30,
      "metadata": {},
      "outputs": [
        {
          "name": "stdout",
          "output_type": "stream",
          "text": [
            "Found 64 images belonging to 2 classes.\n",
            "Found 20 images belonging to 2 classes.\n"
          ]
        }
      ],
      "source": [
        "datagen = preprocessing.image.ImageDataGenerator(rescale=1/255)# normalisation\n",
        "train_generator = datagen.flow_from_directory(\n",
        "        'datasets/spectogram/train',\n",
        "        batch_size=10,\n",
        "        target_size=(512,512),\n",
        "        class_mode='binary')\n",
        "val_generator = datagen.flow_from_directory(\n",
        "        'datasets/spectogram/test',\n",
        "        color_mode='rgb',\n",
        "        target_size=(512,512),\n",
        "        class_mode='binary')\n"
      ]
    },
    {
      "cell_type": "code",
      "execution_count": 31,
      "metadata": {},
      "outputs": [
        {
          "name": "stdout",
          "output_type": "stream",
          "text": [
            "\u001b[1;31mInit signature:\u001b[0m\n",
            "\u001b[0mlayers\u001b[0m\u001b[1;33m.\u001b[0m\u001b[0mexperimental\u001b[0m\u001b[1;33m.\u001b[0m\u001b[0mRandomFourierFeatures\u001b[0m\u001b[1;33m(\u001b[0m\u001b[1;33m\n",
            "\u001b[0m    \u001b[0moutput_dim\u001b[0m\u001b[1;33m,\u001b[0m\u001b[1;33m\n",
            "\u001b[0m    \u001b[0mkernel_initializer\u001b[0m\u001b[1;33m=\u001b[0m\u001b[1;34m'gaussian'\u001b[0m\u001b[1;33m,\u001b[0m\u001b[1;33m\n",
            "\u001b[0m    \u001b[0mscale\u001b[0m\u001b[1;33m=\u001b[0m\u001b[1;32mNone\u001b[0m\u001b[1;33m,\u001b[0m\u001b[1;33m\n",
            "\u001b[0m    \u001b[0mtrainable\u001b[0m\u001b[1;33m=\u001b[0m\u001b[1;32mFalse\u001b[0m\u001b[1;33m,\u001b[0m\u001b[1;33m\n",
            "\u001b[0m    \u001b[0mname\u001b[0m\u001b[1;33m=\u001b[0m\u001b[1;32mNone\u001b[0m\u001b[1;33m,\u001b[0m\u001b[1;33m\n",
            "\u001b[0m    \u001b[1;33m**\u001b[0m\u001b[0mkwargs\u001b[0m\u001b[1;33m,\u001b[0m\u001b[1;33m\n",
            "\u001b[0m\u001b[1;33m)\u001b[0m\u001b[1;33m\u001b[0m\u001b[1;33m\u001b[0m\u001b[0m\n",
            "\u001b[1;31mDocstring:\u001b[0m     \n",
            "Layer that projects its inputs into a random feature space.\n",
            "\n",
            "This layer implements a mapping from input space to a space with `output_dim`\n",
            "dimensions, which approximates shift-invariant kernels. A kernel function\n",
            "`K(x, y)` is shift-invariant if `K(x, y) == k(x - y)` for some function `k`.\n",
            "Many popular Radial Basis Functions (RBF), including Gaussian and\n",
            "Laplacian kernels, are shift-invariant.\n",
            "\n",
            "The implementation of this layer is based on the following paper:\n",
            "[\"Random Features for Large-Scale Kernel Machines\"](\n",
            "  https://people.eecs.berkeley.edu/~brecht/papers/07.rah.rec.nips.pdf)\n",
            "by Ali Rahimi and Ben Recht.\n",
            "\n",
            "The distribution from which the parameters of the random features map (layer)\n",
            "are sampled determines which shift-invariant kernel the layer approximates\n",
            "(see paper for more details). You can use the distribution of your\n",
            "choice. The layer supports out-of-the-box\n",
            "approximations of the following two RBF kernels:\n",
            "\n",
            "- Gaussian: `K(x, y) == exp(- square(x - y) / (2 * square(scale)))`\n",
            "- Laplacian: `K(x, y) = exp(-abs(x - y) / scale))`\n",
            "\n",
            "**Note:** Unlike what is described in the paper and unlike what is used in\n",
            "the Scikit-Learn implementation, the output of this layer does not apply\n",
            "the `sqrt(2 / D)` normalization factor.\n",
            "\n",
            "**Usage:** Typically, this layer is used to \"kernelize\" linear models by\n",
            "applying a non-linear transformation (this layer) to the input features and\n",
            "then training a linear model on top of the transformed features. Depending on\n",
            "the loss function of the linear model, the composition of this layer and the\n",
            "linear model results to models that are equivalent (up to approximation) to\n",
            "kernel SVMs (for hinge loss), kernel logistic regression (for logistic loss),\n",
            "kernel linear regression (for squared loss), etc.\n",
            "\n",
            "Examples:\n",
            "\n",
            "A kernel multinomial logistic regression model with Gaussian kernel for MNIST:\n",
            "\n",
            "```python\n",
            "model = keras.Sequential([\n",
            "  keras.Input(shape=(784,)),\n",
            "  RandomFourierFeatures(\n",
            "      output_dim=4096,\n",
            "      scale=10.,\n",
            "      kernel_initializer='gaussian'),\n",
            "  layers.Dense(units=10, activation='softmax'),\n",
            "])\n",
            "model.compile(\n",
            "    optimizer='adam',\n",
            "    loss='categorical_crossentropy',\n",
            "    metrics=['categorical_accuracy']\n",
            ")\n",
            "```\n",
            "\n",
            "A quasi-SVM classifier for MNIST:\n",
            "\n",
            "```python\n",
            "model = keras.Sequential([\n",
            "  keras.Input(shape=(784,)),\n",
            "  RandomFourierFeatures(\n",
            "      output_dim=4096,\n",
            "      scale=10.,\n",
            "      kernel_initializer='gaussian'),\n",
            "  layers.Dense(units=10),\n",
            "])\n",
            "model.compile(\n",
            "    optimizer='adam',\n",
            "    loss='hinge',\n",
            "    metrics=['categorical_accuracy']\n",
            ")\n",
            "```\n",
            "\n",
            "To use another kernel, just replace the layer creation line with:\n",
            "\n",
            "```python\n",
            "random_features_layer = RandomFourierFeatures(\n",
            "    output_dim=500,\n",
            "    kernel_initializer=<my_initializer>,\n",
            "    scale=...,\n",
            "    ...)\n",
            "```\n",
            "\n",
            "Args:\n",
            "  output_dim: Positive integer, the dimension of the layer's output, i.e., the\n",
            "    number of random features used to approximate the kernel.\n",
            "  kernel_initializer: Determines the distribution of the parameters of the\n",
            "    random features map (and therefore the kernel approximated by the layer).\n",
            "    It can be either a string identifier or a Keras `Initializer` instance.\n",
            "    Currently only 'gaussian' and 'laplacian' are supported string\n",
            "    identifiers (case insensitive). Note that the kernel matrix is not\n",
            "    trainable.\n",
            "  scale: For Gaussian and Laplacian kernels, this corresponds to a scaling\n",
            "    factor of the corresponding kernel approximated by the layer (see concrete\n",
            "    definitions above). When provided, it should be a positive float. If None,\n",
            "    a default value is used: if the kernel initializer is set to \"gaussian\",\n",
            "    `scale` defaults to `sqrt(input_dim / 2)`, otherwise, it defaults to 1.0.\n",
            "    Both the approximation error of the kernel and the classification quality\n",
            "    are sensitive to this parameter. If `trainable` is set to `True`, this\n",
            "    parameter is learned end-to-end during training and the provided value\n",
            "    serves as the initial value.\n",
            "    **Note:** When features from this layer are fed to a linear model,\n",
            "      by making `scale` trainable, the resulting optimization problem is\n",
            "      no longer convex (even if the loss function used by the linear model\n",
            "      is convex).\n",
            "  trainable: Whether the scaling parameter of the layer should be trainable.\n",
            "    Defaults to `False`.\n",
            "  name: String, name to use for this layer.\n",
            "\u001b[1;31mFile:\u001b[0m           c:\\users\\mansi\\appdata\\roaming\\python\\python39\\site-packages\\keras\\layers\\kernelized.py\n",
            "\u001b[1;31mType:\u001b[0m           type\n",
            "\u001b[1;31mSubclasses:\u001b[0m     \n"
          ]
        }
      ],
      "source": [
        "layers.experimental.RandomFourierFeatures?"
      ]
    },
    {
      "cell_type": "code",
      "execution_count": 32,
      "metadata": {
        "colab": {},
        "colab_type": "code",
        "id": "pLn8a1D2yjMf"
      },
      "outputs": [],
      "source": [
        "# model\n",
        "model = models.Sequential()\n",
        "model.add(layers.Conv2D(32, (5,5), activation='relu', input_shape=(512, 512, 3)))\n",
        "model.add(layers.MaxPooling2D((4, 4), strides=4))\n",
        "model.add(layers.Conv2D(32, (3, 3), activation='relu',kernel_regularizer=regularizers.l2(0.01)))\n",
        "model.add(layers.MaxPooling2D((1, 3), strides=(1,3)))\n",
        "model.add(layers.Flatten())\n",
        "model.add(layers.Dense(128, activation='linear',kernel_regularizer=regularizers.l2(0.01)))\n",
        "model.add(layers.Dropout(0.6))\n",
        "model.add(layers.Dense(256, activation='relu',kernel_regularizer=regularizers.l2(0.0001)))\n",
        "model.add(layers.Dropout(0.8))\n",
        "model.add(layers.experimental.RandomFourierFeatures(output_dim=2048,scale=10,kernel_initializer='gaussian'))\n",
        "model.add(layers.Dense(1, activation='sigmoid'))\n",
        "model.compile(optimizer=tf.keras.optimizers.SGD(),\n",
        "              loss=tf.keras.losses.hinge,\n",
        "              metrics=['accuracy',\n",
        "                       tf.keras.metrics.TrueNegatives(),\n",
        "                       tf.keras.metrics.TruePositives(),\n",
        "                       tf.keras.metrics.FalseNegatives(),\n",
        "                       tf.keras.metrics.FalsePositives()])"
      ]
    },
    {
      "cell_type": "code",
      "execution_count": 33,
      "metadata": {
        "colab": {},
        "colab_type": "code",
        "id": "xxWqf07xjrp3"
      },
      "outputs": [
        {
          "name": "stderr",
          "output_type": "stream",
          "text": [
            "C:\\Users\\mansi\\AppData\\Local\\Temp/ipykernel_15344/1896593364.py:2: UserWarning: `Model.fit_generator` is deprecated and will be removed in a future version. Please use `Model.fit`, which supports generators.\n",
            "  history=model.fit_generator(train_generator,epochs=50,validation_data=val_generator,shuffle=True,\n"
          ]
        },
        {
          "name": "stdout",
          "output_type": "stream",
          "text": [
            "Epoch 1/50\n",
            "7/7 [==============================] - 20s 2s/step - loss: 3.9413 - accuracy: 0.4375 - true_negatives_7: 16.0000 - true_positives_7: 12.0000 - false_negatives_7: 20.0000 - false_positives_7: 16.0000 - val_loss: 3.8865 - val_accuracy: 0.5000 - val_true_negatives_7: 0.0000e+00 - val_true_positives_7: 10.0000 - val_false_negatives_7: 0.0000e+00 - val_false_positives_7: 10.0000\n",
            "Epoch 2/50\n",
            "7/7 [==============================] - 18s 3s/step - loss: 3.8550 - accuracy: 0.5469 - true_negatives_7: 19.0000 - true_positives_7: 16.0000 - false_negatives_7: 16.0000 - false_positives_7: 13.0000 - val_loss: 3.8797 - val_accuracy: 0.5000 - val_true_negatives_7: 0.0000e+00 - val_true_positives_7: 10.0000 - val_false_negatives_7: 0.0000e+00 - val_false_positives_7: 10.0000\n",
            "Epoch 3/50\n",
            "7/7 [==============================] - 16s 3s/step - loss: 3.8616 - accuracy: 0.5156 - true_negatives_7: 17.0000 - true_positives_7: 16.0000 - false_negatives_7: 16.0000 - false_positives_7: 15.0000 - val_loss: 3.8752 - val_accuracy: 0.5000 - val_true_negatives_7: 0.0000e+00 - val_true_positives_7: 10.0000 - val_false_negatives_7: 0.0000e+00 - val_false_positives_7: 10.0000\n",
            "Epoch 4/50\n",
            "7/7 [==============================] - 16s 2s/step - loss: 3.8771 - accuracy: 0.4688 - true_negatives_7: 11.0000 - true_positives_7: 19.0000 - false_negatives_7: 13.0000 - false_positives_7: 21.0000 - val_loss: 3.8668 - val_accuracy: 0.5000 - val_true_negatives_7: 0.0000e+00 - val_true_positives_7: 10.0000 - val_false_negatives_7: 0.0000e+00 - val_false_positives_7: 10.0000\n",
            "Epoch 5/50\n",
            "7/7 [==============================] - 16s 2s/step - loss: 3.8642 - accuracy: 0.5000 - true_negatives_7: 11.0000 - true_positives_7: 21.0000 - false_negatives_7: 11.0000 - false_positives_7: 21.0000 - val_loss: 3.8588 - val_accuracy: 0.5000 - val_true_negatives_7: 0.0000e+00 - val_true_positives_7: 10.0000 - val_false_negatives_7: 0.0000e+00 - val_false_positives_7: 10.0000\n",
            "Epoch 6/50\n",
            "7/7 [==============================] - 16s 2s/step - loss: 3.8771 - accuracy: 0.4531 - true_negatives_7: 9.0000 - true_positives_7: 20.0000 - false_negatives_7: 12.0000 - false_positives_7: 23.0000 - val_loss: 3.8504 - val_accuracy: 0.5000 - val_true_negatives_7: 0.0000e+00 - val_true_positives_7: 10.0000 - val_false_negatives_7: 0.0000e+00 - val_false_positives_7: 10.0000\n",
            "Epoch 7/50\n",
            "7/7 [==============================] - 16s 2s/step - loss: 3.8593 - accuracy: 0.5000 - true_negatives_7: 1.0000 - true_positives_7: 31.0000 - false_negatives_7: 1.0000 - false_positives_7: 31.0000 - val_loss: 3.8423 - val_accuracy: 0.5000 - val_true_negatives_7: 0.0000e+00 - val_true_positives_7: 10.0000 - val_false_negatives_7: 0.0000e+00 - val_false_positives_7: 10.0000\n",
            "Epoch 8/50\n",
            "7/7 [==============================] - 16s 2s/step - loss: 3.8402 - accuracy: 0.5000 - true_negatives_7: 0.0000e+00 - true_positives_7: 32.0000 - false_negatives_7: 0.0000e+00 - false_positives_7: 32.0000 - val_loss: 3.8344 - val_accuracy: 0.5000 - val_true_negatives_7: 0.0000e+00 - val_true_positives_7: 10.0000 - val_false_negatives_7: 0.0000e+00 - val_false_positives_7: 10.0000\n",
            "Epoch 9/50\n",
            "7/7 [==============================] - 17s 2s/step - loss: 3.8428 - accuracy: 0.5000 - true_negatives_7: 0.0000e+00 - true_positives_7: 32.0000 - false_negatives_7: 0.0000e+00 - false_positives_7: 32.0000 - val_loss: 3.8264 - val_accuracy: 0.5000 - val_true_negatives_7: 0.0000e+00 - val_true_positives_7: 10.0000 - val_false_negatives_7: 0.0000e+00 - val_false_positives_7: 10.0000\n",
            "Epoch 10/50\n",
            "7/7 [==============================] - 17s 3s/step - loss: 3.8160 - accuracy: 0.5000 - true_negatives_7: 0.0000e+00 - true_positives_7: 32.0000 - false_negatives_7: 0.0000e+00 - false_positives_7: 32.0000 - val_loss: 3.8186 - val_accuracy: 0.5000 - val_true_negatives_7: 0.0000e+00 - val_true_positives_7: 10.0000 - val_false_negatives_7: 0.0000e+00 - val_false_positives_7: 10.0000\n",
            "Epoch 11/50\n",
            "7/7 [==============================] - 18s 3s/step - loss: 3.8164 - accuracy: 0.5000 - true_negatives_7: 0.0000e+00 - true_positives_7: 32.0000 - false_negatives_7: 0.0000e+00 - false_positives_7: 32.0000 - val_loss: 3.8108 - val_accuracy: 0.5000 - val_true_negatives_7: 0.0000e+00 - val_true_positives_7: 10.0000 - val_false_negatives_7: 0.0000e+00 - val_false_positives_7: 10.0000\n",
            "Epoch 12/50\n",
            "7/7 [==============================] - 17s 2s/step - loss: 3.8038 - accuracy: 0.5000 - true_negatives_7: 0.0000e+00 - true_positives_7: 32.0000 - false_negatives_7: 0.0000e+00 - false_positives_7: 32.0000 - val_loss: 3.8030 - val_accuracy: 0.5000 - val_true_negatives_7: 0.0000e+00 - val_true_positives_7: 10.0000 - val_false_negatives_7: 0.0000e+00 - val_false_positives_7: 10.0000\n",
            "Epoch 13/50\n",
            "7/7 [==============================] - 16s 2s/step - loss: 3.7930 - accuracy: 0.5000 - true_negatives_7: 0.0000e+00 - true_positives_7: 32.0000 - false_negatives_7: 0.0000e+00 - false_positives_7: 32.0000 - val_loss: 3.7954 - val_accuracy: 0.5000 - val_true_negatives_7: 0.0000e+00 - val_true_positives_7: 10.0000 - val_false_negatives_7: 0.0000e+00 - val_false_positives_7: 10.0000\n",
            "Epoch 14/50\n",
            "7/7 [==============================] - 16s 2s/step - loss: 3.8175 - accuracy: 0.5000 - true_negatives_7: 0.0000e+00 - true_positives_7: 32.0000 - false_negatives_7: 0.0000e+00 - false_positives_7: 32.0000 - val_loss: 3.7874 - val_accuracy: 0.5000 - val_true_negatives_7: 0.0000e+00 - val_true_positives_7: 10.0000 - val_false_negatives_7: 0.0000e+00 - val_false_positives_7: 10.0000\n",
            "Epoch 15/50\n",
            "7/7 [==============================] - 17s 3s/step - loss: 3.7766 - accuracy: 0.5000 - true_negatives_7: 1.0000 - true_positives_7: 31.0000 - false_negatives_7: 1.0000 - false_positives_7: 31.0000 - val_loss: 3.7799 - val_accuracy: 0.5000 - val_true_negatives_7: 0.0000e+00 - val_true_positives_7: 10.0000 - val_false_negatives_7: 0.0000e+00 - val_false_positives_7: 10.0000\n",
            "Epoch 16/50\n",
            "7/7 [==============================] - 19s 3s/step - loss: 3.7418 - accuracy: 0.5469 - true_negatives_7: 8.0000 - true_positives_7: 27.0000 - false_negatives_7: 5.0000 - false_positives_7: 24.0000 - val_loss: 3.7722 - val_accuracy: 0.5000 - val_true_negatives_7: 0.0000e+00 - val_true_positives_7: 10.0000 - val_false_negatives_7: 0.0000e+00 - val_false_positives_7: 10.0000\n",
            "Epoch 17/50\n",
            "7/7 [==============================] - 16s 2s/step - loss: 3.7514 - accuracy: 0.5156 - true_negatives_7: 5.0000 - true_positives_7: 28.0000 - false_negatives_7: 4.0000 - false_positives_7: 27.0000 - val_loss: 3.7643 - val_accuracy: 0.5000 - val_true_negatives_7: 0.0000e+00 - val_true_positives_7: 10.0000 - val_false_negatives_7: 0.0000e+00 - val_false_positives_7: 10.0000\n",
            "Epoch 18/50\n",
            "7/7 [==============================] - 15s 2s/step - loss: 3.7416 - accuracy: 0.4844 - true_negatives_7: 14.0000 - true_positives_7: 17.0000 - false_negatives_7: 15.0000 - false_positives_7: 18.0000 - val_loss: 3.7597 - val_accuracy: 0.5000 - val_true_negatives_7: 0.0000e+00 - val_true_positives_7: 10.0000 - val_false_negatives_7: 0.0000e+00 - val_false_positives_7: 10.0000\n",
            "Epoch 19/50\n",
            "7/7 [==============================] - 16s 2s/step - loss: 3.7731 - accuracy: 0.4844 - true_negatives_7: 18.0000 - true_positives_7: 13.0000 - false_negatives_7: 19.0000 - false_positives_7: 14.0000 - val_loss: 3.7633 - val_accuracy: 0.5000 - val_true_negatives_7: 10.0000 - val_true_positives_7: 0.0000e+00 - val_false_negatives_7: 10.0000 - val_false_positives_7: 0.0000e+00\n",
            "Epoch 20/50\n",
            "7/7 [==============================] - 16s 2s/step - loss: 3.7342 - accuracy: 0.5156 - true_negatives_7: 16.0000 - true_positives_7: 17.0000 - false_negatives_7: 15.0000 - false_positives_7: 16.0000 - val_loss: 3.7510 - val_accuracy: 0.5000 - val_true_negatives_7: 0.0000e+00 - val_true_positives_7: 10.0000 - val_false_negatives_7: 0.0000e+00 - val_false_positives_7: 10.0000\n",
            "Epoch 21/50\n",
            "7/7 [==============================] - 16s 2s/step - loss: 3.7540 - accuracy: 0.5000 - true_negatives_7: 16.0000 - true_positives_7: 16.0000 - false_negatives_7: 16.0000 - false_positives_7: 16.0000 - val_loss: 3.7492 - val_accuracy: 0.5000 - val_true_negatives_7: 10.0000 - val_true_positives_7: 0.0000e+00 - val_false_negatives_7: 10.0000 - val_false_positives_7: 0.0000e+00\n",
            "Epoch 22/50\n",
            "7/7 [==============================] - 16s 2s/step - loss: 3.7311 - accuracy: 0.5156 - true_negatives_7: 13.0000 - true_positives_7: 20.0000 - false_negatives_7: 12.0000 - false_positives_7: 19.0000 - val_loss: 3.7235 - val_accuracy: 0.5000 - val_true_negatives_7: 9.0000 - val_true_positives_7: 1.0000 - val_false_negatives_7: 9.0000 - val_false_positives_7: 1.0000\n",
            "Epoch 23/50\n",
            "7/7 [==============================] - 17s 2s/step - loss: 3.7445 - accuracy: 0.5312 - true_negatives_7: 19.0000 - true_positives_7: 15.0000 - false_negatives_7: 17.0000 - false_positives_7: 13.0000 - val_loss: 3.7399 - val_accuracy: 0.5000 - val_true_negatives_7: 0.0000e+00 - val_true_positives_7: 10.0000 - val_false_negatives_7: 0.0000e+00 - val_false_positives_7: 10.0000\n",
            "Epoch 24/50\n",
            "7/7 [==============================] - 16s 2s/step - loss: 3.7357 - accuracy: 0.5000 - true_negatives_7: 12.0000 - true_positives_7: 20.0000 - false_negatives_7: 12.0000 - false_positives_7: 20.0000 - val_loss: 3.7421 - val_accuracy: 0.5000 - val_true_negatives_7: 0.0000e+00 - val_true_positives_7: 10.0000 - val_false_negatives_7: 0.0000e+00 - val_false_positives_7: 10.0000\n",
            "Epoch 25/50\n",
            "7/7 [==============================] - 16s 2s/step - loss: 3.7745 - accuracy: 0.3750 - true_negatives_7: 14.0000 - true_positives_7: 10.0000 - false_negatives_7: 22.0000 - false_positives_7: 18.0000 - val_loss: 3.7584 - val_accuracy: 0.5000 - val_true_negatives_7: 10.0000 - val_true_positives_7: 0.0000e+00 - val_false_negatives_7: 10.0000 - val_false_positives_7: 0.0000e+00\n",
            "Epoch 26/50\n",
            "7/7 [==============================] - 16s 2s/step - loss: 3.7410 - accuracy: 0.4531 - true_negatives_7: 12.0000 - true_positives_7: 17.0000 - false_negatives_7: 15.0000 - false_positives_7: 20.0000 - val_loss: 3.7346 - val_accuracy: 0.5000 - val_true_negatives_7: 0.0000e+00 - val_true_positives_7: 10.0000 - val_false_negatives_7: 0.0000e+00 - val_false_positives_7: 10.0000\n",
            "Epoch 27/50\n",
            "7/7 [==============================] - 16s 2s/step - loss: 3.7449 - accuracy: 0.5000 - true_negatives_7: 14.0000 - true_positives_7: 18.0000 - false_negatives_7: 14.0000 - false_positives_7: 18.0000 - val_loss: 3.6953 - val_accuracy: 0.5500 - val_true_negatives_7: 1.0000 - val_true_positives_7: 10.0000 - val_false_negatives_7: 0.0000e+00 - val_false_positives_7: 9.0000\n",
            "Epoch 28/50\n",
            "7/7 [==============================] - 17s 2s/step - loss: 3.6986 - accuracy: 0.5469 - true_negatives_7: 21.0000 - true_positives_7: 14.0000 - false_negatives_7: 18.0000 - false_positives_7: 11.0000 - val_loss: 3.7253 - val_accuracy: 0.5000 - val_true_negatives_7: 0.0000e+00 - val_true_positives_7: 10.0000 - val_false_negatives_7: 0.0000e+00 - val_false_positives_7: 10.0000\n",
            "Epoch 29/50\n",
            "7/7 [==============================] - 16s 2s/step - loss: 3.7011 - accuracy: 0.5625 - true_negatives_7: 17.0000 - true_positives_7: 19.0000 - false_negatives_7: 13.0000 - false_positives_7: 15.0000 - val_loss: 3.7189 - val_accuracy: 0.5000 - val_true_negatives_7: 0.0000e+00 - val_true_positives_7: 10.0000 - val_false_negatives_7: 0.0000e+00 - val_false_positives_7: 10.0000\n",
            "Epoch 30/50\n",
            "7/7 [==============================] - 17s 2s/step - loss: 3.7066 - accuracy: 0.6094 - true_negatives_7: 21.0000 - true_positives_7: 18.0000 - false_negatives_7: 14.0000 - false_positives_7: 11.0000 - val_loss: 3.7135 - val_accuracy: 0.5000 - val_true_negatives_7: 10.0000 - val_true_positives_7: 0.0000e+00 - val_false_negatives_7: 10.0000 - val_false_positives_7: 0.0000e+00\n",
            "Epoch 31/50\n",
            "7/7 [==============================] - 16s 2s/step - loss: 3.6968 - accuracy: 0.5781 - true_negatives_7: 20.0000 - true_positives_7: 17.0000 - false_negatives_7: 15.0000 - false_positives_7: 12.0000 - val_loss: 3.7028 - val_accuracy: 0.5000 - val_true_negatives_7: 0.0000e+00 - val_true_positives_7: 10.0000 - val_false_negatives_7: 0.0000e+00 - val_false_positives_7: 10.0000\n",
            "Epoch 32/50\n",
            "7/7 [==============================] - 16s 3s/step - loss: 3.7276 - accuracy: 0.3906 - true_negatives_7: 11.0000 - true_positives_7: 14.0000 - false_negatives_7: 18.0000 - false_positives_7: 21.0000 - val_loss: 3.6893 - val_accuracy: 0.5000 - val_true_negatives_7: 0.0000e+00 - val_true_positives_7: 10.0000 - val_false_negatives_7: 0.0000e+00 - val_false_positives_7: 10.0000\n",
            "Epoch 33/50\n",
            "7/7 [==============================] - 17s 2s/step - loss: 3.6361 - accuracy: 0.6406 - true_negatives_7: 20.0000 - true_positives_7: 21.0000 - false_negatives_7: 11.0000 - false_positives_7: 12.0000 - val_loss: 3.6818 - val_accuracy: 0.5000 - val_true_negatives_7: 10.0000 - val_true_positives_7: 0.0000e+00 - val_false_negatives_7: 10.0000 - val_false_positives_7: 0.0000e+00\n",
            "Epoch 34/50\n",
            "7/7 [==============================] - 17s 2s/step - loss: 3.6801 - accuracy: 0.5156 - true_negatives_7: 17.0000 - true_positives_7: 16.0000 - false_negatives_7: 16.0000 - false_positives_7: 15.0000 - val_loss: 3.6707 - val_accuracy: 0.5000 - val_true_negatives_7: 0.0000e+00 - val_true_positives_7: 10.0000 - val_false_negatives_7: 0.0000e+00 - val_false_positives_7: 10.0000\n",
            "Epoch 35/50\n",
            "7/7 [==============================] - 17s 2s/step - loss: 3.6638 - accuracy: 0.5000 - true_negatives_7: 14.0000 - true_positives_7: 18.0000 - false_negatives_7: 14.0000 - false_positives_7: 18.0000 - val_loss: 3.6687 - val_accuracy: 0.5000 - val_true_negatives_7: 0.0000e+00 - val_true_positives_7: 10.0000 - val_false_negatives_7: 0.0000e+00 - val_false_positives_7: 10.0000\n",
            "Epoch 36/50\n",
            "7/7 [==============================] - 17s 2s/step - loss: 3.6428 - accuracy: 0.5469 - true_negatives_7: 11.0000 - true_positives_7: 24.0000 - false_negatives_7: 8.0000 - false_positives_7: 21.0000 - val_loss: 3.6611 - val_accuracy: 0.5000 - val_true_negatives_7: 0.0000e+00 - val_true_positives_7: 10.0000 - val_false_negatives_7: 0.0000e+00 - val_false_positives_7: 10.0000\n",
            "Epoch 37/50\n",
            "7/7 [==============================] - 17s 2s/step - loss: 3.6637 - accuracy: 0.5000 - true_negatives_7: 0.0000e+00 - true_positives_7: 32.0000 - false_negatives_7: 0.0000e+00 - false_positives_7: 32.0000 - val_loss: 3.6537 - val_accuracy: 0.5000 - val_true_negatives_7: 0.0000e+00 - val_true_positives_7: 10.0000 - val_false_negatives_7: 0.0000e+00 - val_false_positives_7: 10.0000\n",
            "Epoch 38/50\n",
            "7/7 [==============================] - 17s 2s/step - loss: 3.6630 - accuracy: 0.4844 - true_negatives_7: 0.0000e+00 - true_positives_7: 31.0000 - false_negatives_7: 1.0000 - false_positives_7: 32.0000 - val_loss: 3.6464 - val_accuracy: 0.5000 - val_true_negatives_7: 0.0000e+00 - val_true_positives_7: 10.0000 - val_false_negatives_7: 0.0000e+00 - val_false_positives_7: 10.0000\n",
            "Epoch 39/50\n",
            "7/7 [==============================] - 17s 2s/step - loss: 3.6413 - accuracy: 0.5000 - true_negatives_7: 0.0000e+00 - true_positives_7: 32.0000 - false_negatives_7: 0.0000e+00 - false_positives_7: 32.0000 - val_loss: 3.6391 - val_accuracy: 0.5000 - val_true_negatives_7: 0.0000e+00 - val_true_positives_7: 10.0000 - val_false_negatives_7: 0.0000e+00 - val_false_positives_7: 10.0000\n",
            "Epoch 40/50\n",
            "7/7 [==============================] - 17s 2s/step - loss: 3.6393 - accuracy: 0.5000 - true_negatives_7: 0.0000e+00 - true_positives_7: 32.0000 - false_negatives_7: 0.0000e+00 - false_positives_7: 32.0000 - val_loss: 3.6318 - val_accuracy: 0.5000 - val_true_negatives_7: 0.0000e+00 - val_true_positives_7: 10.0000 - val_false_negatives_7: 0.0000e+00 - val_false_positives_7: 10.0000\n",
            "Epoch 41/50\n",
            "7/7 [==============================] - 16s 2s/step - loss: 3.6338 - accuracy: 0.5000 - true_negatives_7: 0.0000e+00 - true_positives_7: 32.0000 - false_negatives_7: 0.0000e+00 - false_positives_7: 32.0000 - val_loss: 3.6245 - val_accuracy: 0.5000 - val_true_negatives_7: 0.0000e+00 - val_true_positives_7: 10.0000 - val_false_negatives_7: 0.0000e+00 - val_false_positives_7: 10.0000\n",
            "Epoch 42/50\n",
            "7/7 [==============================] - 15s 2s/step - loss: 3.6262 - accuracy: 0.4688 - true_negatives_7: 0.0000e+00 - true_positives_7: 30.0000 - false_negatives_7: 2.0000 - false_positives_7: 32.0000 - val_loss: 3.6172 - val_accuracy: 0.5000 - val_true_negatives_7: 0.0000e+00 - val_true_positives_7: 10.0000 - val_false_negatives_7: 0.0000e+00 - val_false_positives_7: 10.0000\n",
            "Epoch 43/50\n",
            "7/7 [==============================] - 16s 2s/step - loss: 3.6008 - accuracy: 0.5000 - true_negatives_7: 0.0000e+00 - true_positives_7: 32.0000 - false_negatives_7: 0.0000e+00 - false_positives_7: 32.0000 - val_loss: 3.6100 - val_accuracy: 0.5000 - val_true_negatives_7: 0.0000e+00 - val_true_positives_7: 10.0000 - val_false_negatives_7: 0.0000e+00 - val_false_positives_7: 10.0000\n",
            "Epoch 44/50\n",
            "7/7 [==============================] - 17s 2s/step - loss: 3.5863 - accuracy: 0.5312 - true_negatives_7: 4.0000 - true_positives_7: 30.0000 - false_negatives_7: 2.0000 - false_positives_7: 28.0000 - val_loss: 3.6029 - val_accuracy: 0.5000 - val_true_negatives_7: 0.0000e+00 - val_true_positives_7: 10.0000 - val_false_negatives_7: 0.0000e+00 - val_false_positives_7: 10.0000\n",
            "Epoch 45/50\n",
            "7/7 [==============================] - 16s 2s/step - loss: 3.6039 - accuracy: 0.4688 - true_negatives_7: 0.0000e+00 - true_positives_7: 30.0000 - false_negatives_7: 2.0000 - false_positives_7: 32.0000 - val_loss: 3.5956 - val_accuracy: 0.5000 - val_true_negatives_7: 0.0000e+00 - val_true_positives_7: 10.0000 - val_false_negatives_7: 0.0000e+00 - val_false_positives_7: 10.0000\n",
            "Epoch 46/50\n",
            "7/7 [==============================] - 15s 2s/step - loss: 3.5873 - accuracy: 0.4844 - true_negatives_7: 0.0000e+00 - true_positives_7: 31.0000 - false_negatives_7: 1.0000 - false_positives_7: 32.0000 - val_loss: 3.5885 - val_accuracy: 0.5000 - val_true_negatives_7: 0.0000e+00 - val_true_positives_7: 10.0000 - val_false_negatives_7: 0.0000e+00 - val_false_positives_7: 10.0000\n",
            "Epoch 47/50\n",
            "7/7 [==============================] - 16s 2s/step - loss: 3.5608 - accuracy: 0.5000 - true_negatives_7: 1.0000 - true_positives_7: 31.0000 - false_negatives_7: 1.0000 - false_positives_7: 31.0000 - val_loss: 3.5813 - val_accuracy: 0.5000 - val_true_negatives_7: 0.0000e+00 - val_true_positives_7: 10.0000 - val_false_negatives_7: 0.0000e+00 - val_false_positives_7: 10.0000\n",
            "Epoch 48/50\n",
            "7/7 [==============================] - 15s 2s/step - loss: 3.5844 - accuracy: 0.5156 - true_negatives_7: 1.0000 - true_positives_7: 32.0000 - false_negatives_7: 0.0000e+00 - false_positives_7: 31.0000 - val_loss: 3.5741 - val_accuracy: 0.5000 - val_true_negatives_7: 0.0000e+00 - val_true_positives_7: 10.0000 - val_false_negatives_7: 0.0000e+00 - val_false_positives_7: 10.0000\n",
            "Epoch 49/50\n",
            "7/7 [==============================] - 17s 2s/step - loss: 3.5736 - accuracy: 0.5000 - true_negatives_7: 0.0000e+00 - true_positives_7: 32.0000 - false_negatives_7: 0.0000e+00 - false_positives_7: 32.0000 - val_loss: 3.5670 - val_accuracy: 0.5000 - val_true_negatives_7: 0.0000e+00 - val_true_positives_7: 10.0000 - val_false_negatives_7: 0.0000e+00 - val_false_positives_7: 10.0000\n",
            "Epoch 50/50\n",
            "7/7 [==============================] - 17s 2s/step - loss: 3.5496 - accuracy: 0.5000 - true_negatives_7: 1.0000 - true_positives_7: 31.0000 - false_negatives_7: 1.0000 - false_positives_7: 31.0000 - val_loss: 3.5600 - val_accuracy: 0.5000 - val_true_negatives_7: 0.0000e+00 - val_true_positives_7: 10.0000 - val_false_negatives_7: 0.0000e+00 - val_false_positives_7: 10.0000\n"
          ]
        },
        {
          "data": {
            "image/png": "[encoded data removed]",
            "text/plain": [
              "<Figure size 432x288 with 1 Axes>"
            ]
          },
          "metadata": {
            "needs_background": "light"
          },
          "output_type": "display_data"
        },
        {
          "data": {
            "image/png": "[encoded data removed]",
            "text/plain": [
              "<Figure size 432x288 with 1 Axes>"
            ]
          },
          "metadata": {
            "needs_background": "light"
          },
          "output_type": "display_data"
        }
      ],
      "source": [
        "# fitiing\n",
        "history=model.fit_generator(train_generator,epochs=50,validation_data=val_generator,shuffle=True,\n",
        "                            callbacks=[callbacks.EarlyStopping(monitor='val_loss', patience=5,restore_best_weights=True)])\n",
        "# using early stopping method to train the model to achieve maximum accuracy\n",
        "plt.plot(history.history['loss'])\n",
        "plt.plot(history.history['val_loss'])\n",
        "plt.title('loss')\n",
        "plt.ylabel('loss')\n",
        "plt.xlabel('epoch')\n",
        "plt.legend(['train', 'val'], loc='upper left')\n",
        "plt.show()\n",
        "plt.plot(history.history['loss'])\n",
        "plt.plot(history.history['val_loss'])\n",
        "plt.title('loss')\n",
        "plt.ylabel('loss')\n",
        "plt.xlabel('epoch')\n",
        "plt.legend(['train', 'val'], loc='upper left')\n",
        "plt.show()"
      ]
    },
    {
      "cell_type": "code",
      "execution_count": 37,
      "metadata": {
        "colab": {},
        "colab_type": "code",
        "id": "lTU-qpGgLUqf"
      },
      "outputs": [
        {
          "name": "stderr",
          "output_type": "stream",
          "text": [
            "C:\\Users\\mansi\\AppData\\Local\\Temp/ipykernel_15344/1985064804.py:2: UserWarning: `Model.evaluate_generator` is deprecated and will be removed in a future version. Please use `Model.evaluate`, which supports generators.\n",
            "  loss,accuracy,tn,tp,fn,fp=model.evaluate_generator(val_generator)\n"
          ]
        },
        {
          "name": "stdout",
          "output_type": "stream",
          "text": [
            "0.5 0.0 10.0 0.0 10.0\n"
          ]
        }
      ],
      "source": [
        "#testing \n",
        "loss,accuracy,tn,tp,fn,fp=model.evaluate_generator(val_generator)\n",
        "print(accuracy,tn,tp,fn,fp)"
      ]
    },
    {
      "cell_type": "code",
      "execution_count": 38,
      "metadata": {},
      "outputs": [
        {
          "name": "stdout",
          "output_type": "stream",
          "text": [
            "7/7 [==============================] - 4s 557ms/step - loss: 3.5600 - accuracy: 0.5000 - true_negatives_7: 0.0000e+00 - true_positives_7: 32.0000 - false_negatives_7: 0.0000e+00 - false_positives_7: 32.0000\n"
          ]
        }
      ],
      "source": [
        "loss,accuracy,tn,tp,fn,fp = model.evaluate(train_generator)"
      ]
    },
    {
      "cell_type": "code",
      "execution_count": 36,
      "metadata": {},
      "outputs": [
        {
          "name": "stdout",
          "output_type": "stream",
          "text": [
            "0.5 0.0 32.0 0.0 32.0\n"
          ]
        }
      ],
      "source": [
        "print(accuracy,tn,tp,fn,fp)"
      ]
    },
    {
      "cell_type": "code",
      "execution_count": null,
      "metadata": {},
      "outputs": [],
      "source": []
    }
  ],
  "metadata": {
    "colab": {
      "name": "Untitled15.ipynb",
      "provenance": []
    },
    "interpreter": {
      "hash": "11938c6bc6919ae2720b4d5011047913343b08a43b18698fd82dedb0d4417594"
    },
    "kernelspec": {
      "display_name": "Python 3.9.9 64-bit",
      "language": "python",
      "name": "python3"
    },
    "language_info": {
      "codemirror_mode": {
        "name": "ipython",
        "version": 3
      },
      "file_extension": ".py",
      "mimetype": "text/x-python",
      "name": "python",
      "nbconvert_exporter": "python",
      "pygments_lexer": "ipython3",
      "version": "3.9.9"
    }
  },
  "nbformat": 4,
  "nbformat_minor": 0
}
